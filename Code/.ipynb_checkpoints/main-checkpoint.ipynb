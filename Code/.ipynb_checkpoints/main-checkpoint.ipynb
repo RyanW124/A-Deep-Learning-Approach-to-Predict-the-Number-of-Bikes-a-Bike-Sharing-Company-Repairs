{
 "cells": [
  {
   "cell_type": "code",
   "execution_count": null,
   "id": "80bebb2f",
   "metadata": {},
   "outputs": [],
   "source": [
    "from cluster import *\n",
    "from load_data import *\n",
    "from matplotlib import pyplot as plt\n",
    "import sklearn, torch, random, numpy as np\n",
    "\n",
    "seed_num = 1\n",
    "torch.manual_seed(seed_num)\n",
    "np.random.seed(seed_num) #also sets sklearn seed\n",
    "random.seed(seed_num)"
   ]
  },
  {
   "cell_type": "code",
   "execution_count": null,
   "id": "c2a0bfc4",
   "metadata": {},
   "outputs": [],
   "source": [
    "file = '../Data/stations.dat'\n",
    "save_stations(file)\n",
    "station_id, coord, groups = cluster(file)\n",
    "coord = np.array(coord)"
   ]
  },
  {
   "cell_type": "code",
   "execution_count": null,
   "id": "fda496a8",
   "metadata": {},
   "outputs": [],
   "source": [
    "plt.scatter(coord[:, 0], coord[:, 1], c=groups)\n",
    "plt.title('Clustering of Stations')\n",
    "plt.xlabel('Latitude')\n",
    "plt.ylabel('Longitude')\n",
    "plt.savefig('../Graphs/Cluster.png')\n",
    "plt.show()"
   ]
  },
  {
   "cell_type": "code",
   "execution_count": null,
   "id": "11291c08",
   "metadata": {},
   "outputs": [],
   "source": [
    "data = load({station_id[i]: groups[i] for i in range(len(station_id))})\n",
    "for i in data:\n",
    "    print(data)"
   ]
  }
 ],
 "metadata": {
  "kernelspec": {
   "display_name": "Python 3",
   "language": "python",
   "name": "python3"
  },
  "language_info": {
   "codemirror_mode": {
    "name": "ipython",
    "version": 3
   },
   "file_extension": ".py",
   "mimetype": "text/x-python",
   "name": "python",
   "nbconvert_exporter": "python",
   "pygments_lexer": "ipython3",
   "version": "3.9.2"
  }
 },
 "nbformat": 4,
 "nbformat_minor": 5
}
